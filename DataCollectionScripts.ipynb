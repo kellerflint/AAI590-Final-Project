{
 "cells": [
  {
   "cell_type": "code",
   "execution_count": null,
   "metadata": {},
   "outputs": [
    {
     "name": "stdout",
     "output_type": "stream",
     "text": [
      "Image saved as z_screen_1.png\n",
      "Image saved as z_screen_2.png\n"
     ]
    },
    {
     "ename": "KeyboardInterrupt",
     "evalue": "",
     "output_type": "error",
     "traceback": [
      "\u001b[31m---------------------------------------------------------------------------\u001b[39m",
      "\u001b[31mKeyboardInterrupt\u001b[39m                         Traceback (most recent call last)",
      "\u001b[36mCell\u001b[39m\u001b[36m \u001b[39m\u001b[32mIn[1]\u001b[39m\u001b[32m, line 12\u001b[39m\n\u001b[32m     10\u001b[39m \u001b[38;5;28mprint\u001b[39m(\u001b[33mf\u001b[39m\u001b[33m\"\u001b[39m\u001b[33mImage saved as \u001b[39m\u001b[38;5;132;01m{\u001b[39;00mfilename\u001b[38;5;132;01m}\u001b[39;00m\u001b[33m\"\u001b[39m)\n\u001b[32m     11\u001b[39m img_number += \u001b[32m1\u001b[39m\n\u001b[32m---> \u001b[39m\u001b[32m12\u001b[39m \u001b[43mtime\u001b[49m\u001b[43m.\u001b[49m\u001b[43msleep\u001b[49m\u001b[43m(\u001b[49m\u001b[32;43m5\u001b[39;49m\u001b[43m)\u001b[49m\n",
      "\u001b[31mKeyboardInterrupt\u001b[39m: "
     ]
    }
   ],
   "source": [
    "import pyautogui\n",
    "import time\n",
    "\n",
    "img_number = 1\n",
    "\n",
    "while True:\n",
    "    screenshot = pyautogui.screenshot()\n",
    "    filename = f\"z_screen_{img_number}.png\"\n",
    "    screenshot.save(filename)\n",
    "    print(f\"Image saved as {filename}\")\n",
    "    img_number += 1\n",
    "    time.sleep(5)"
   ]
  },
  {
   "cell_type": "code",
   "execution_count": null,
   "metadata": {},
   "outputs": [
    {
     "name": "stdout",
     "output_type": "stream",
     "text": [
      "Image saved as z_screen_1.jpg\n",
      "Image saved as z_screen_2.jpg\n",
      "Image saved as z_screen_3.jpg\n",
      "Image saved as z_screen_4.jpg\n",
      "Image saved as z_screen_5.jpg\n",
      "Image saved as z_screen_6.jpg\n",
      "Image saved as z_screen_7.jpg\n",
      "Image saved as z_screen_8.jpg\n",
      "Image saved as z_screen_9.jpg\n",
      "Image saved as z_screen_10.jpg\n",
      "Image saved as z_screen_11.jpg\n",
      "Image saved as z_screen_12.jpg\n",
      "Image saved as z_screen_13.jpg\n",
      "Image saved as z_screen_14.jpg\n",
      "Image saved as z_screen_15.jpg\n",
      "Image saved as z_screen_16.jpg\n",
      "Image saved as z_screen_17.jpg\n",
      "Image saved as z_screen_18.jpg\n",
      "Image saved as z_screen_19.jpg\n",
      "Image saved as z_screen_20.jpg\n",
      "Image saved as z_screen_21.jpg\n",
      "Image saved as z_screen_22.jpg\n",
      "Image saved as z_screen_23.jpg\n",
      "Image saved as z_screen_24.jpg\n",
      "Image saved as z_screen_25.jpg\n",
      "Image saved as z_screen_26.jpg\n",
      "Image saved as z_screen_27.jpg\n",
      "Image saved as z_screen_28.jpg\n",
      "Image saved as z_screen_29.jpg\n",
      "Image saved as z_screen_30.jpg\n",
      "Image saved as z_screen_31.jpg\n",
      "Image saved as z_screen_32.jpg\n",
      "Image saved as z_screen_33.jpg\n",
      "Image saved as z_screen_34.jpg\n",
      "Image saved as z_screen_35.jpg\n",
      "Image saved as z_screen_36.jpg\n",
      "Image saved as z_screen_37.jpg\n",
      "Image saved as z_screen_38.jpg\n",
      "Image saved as z_screen_39.jpg\n",
      "Image saved as z_screen_40.jpg\n",
      "Image saved as z_screen_41.jpg\n",
      "Image saved as z_screen_42.jpg\n"
     ]
    },
    {
     "ename": "KeyboardInterrupt",
     "evalue": "",
     "output_type": "error",
     "traceback": [
      "\u001b[31m---------------------------------------------------------------------------\u001b[39m",
      "\u001b[31mKeyboardInterrupt\u001b[39m                         Traceback (most recent call last)",
      "\u001b[36mCell\u001b[39m\u001b[36m \u001b[39m\u001b[32mIn[10]\u001b[39m\u001b[32m, line 33\u001b[39m\n\u001b[32m     30\u001b[39m     img_number += \u001b[32m1\u001b[39m\n\u001b[32m     32\u001b[39m     \u001b[38;5;66;03m# Wait for 5 seconds\u001b[39;00m\n\u001b[32m---> \u001b[39m\u001b[32m33\u001b[39m     time.sleep(\u001b[32m5\u001b[39m)\n\u001b[32m     35\u001b[39m \u001b[38;5;66;03m# Release the webcam when the loop is interrupted (e.g., by Ctrl+C)\u001b[39;00m\n\u001b[32m     36\u001b[39m camera.release()\n",
      "\u001b[31mKeyboardInterrupt\u001b[39m: "
     ]
    }
   ],
   "source": [
    "import cv2\n",
    "import time\n",
    "\n",
    "camera = cv2.VideoCapture(1)\n",
    "\n",
    "if not camera.isOpened():\n",
    "    raise IOError(\"Cannot open webcam\")\n",
    "\n",
    "img_number = 1\n",
    "\n",
    "while True:\n",
    "    ret, frame = camera.read()\n",
    "\n",
    "    if not ret:\n",
    "        print(\"Error: Cannot capture frame.\")\n",
    "        break\n",
    "\n",
    "    filename = f\"z_screen_{img_number}.jpg\"\n",
    "\n",
    "    cv2.imwrite(filename, frame)\n",
    "    print(f\"Image saved as {filename}\")\n",
    "\n",
    "    img_number += 1\n",
    "    time.sleep(15)\n",
    "\n",
    "camera.release()\n",
    "print(\"Webcam released.\")"
   ]
  }
 ],
 "metadata": {
  "kernelspec": {
   "display_name": "Python 3",
   "language": "python",
   "name": "python3"
  },
  "language_info": {
   "codemirror_mode": {
    "name": "ipython",
    "version": 3
   },
   "file_extension": ".py",
   "mimetype": "text/x-python",
   "name": "python",
   "nbconvert_exporter": "python",
   "pygments_lexer": "ipython3",
   "version": "3.11.9"
  }
 },
 "nbformat": 4,
 "nbformat_minor": 2
}
